{
 "cells": [
  {
   "cell_type": "code",
   "execution_count": 4,
   "id": "59fb4157",
   "metadata": {},
   "outputs": [],
   "source": [
    "df_ori = pd.read_excel(r'D:\\ODOC\\jupyter_notebook\\제품데이터_FULL\\제품_성분_정리.xlsx')\n",
    "df = df_ori"
   ]
  },
  {
   "cell_type": "code",
   "execution_count": 5,
   "id": "655f62b5",
   "metadata": {},
   "outputs": [],
   "source": [
    "# True값이 아예 없음 -> 삭제\n",
    "df = df.drop(['속눈썹컨디셔닝제','염모제','항료','흡착제'], axis=1)\n",
    "\n",
    "# 상관계수 0.01미만 -> 삭제\n",
    "drop_columns = ['감미제', '스킨', '피막형성제', '분사제', '활성제(세정제)', \n",
    "        '헤어스트레이트너용제', '퍼머넌트웨이브용제','용제', '점착제',\n",
    "       '변색방지제', '세포용해제', '연마제', '계면활성제', '피부보호제', \n",
    "       '스킨컨디셔닝제', '수렴제', '금속이온봉쇄제', '착향제',\n",
    "               ]\n",
    "df = df.drop(drop_columns, axis=1)"
   ]
  },
  {
   "cell_type": "code",
   "execution_count": 6,
   "id": "a507da32",
   "metadata": {},
   "outputs": [],
   "source": [
    "# 널값 처리\n",
    "df.loc[df.price.isna(), 'price'] = df.loc[df.price.isna(),'sale_price']\n",
    "df.review_star = df.review_star.fillna(0)\n",
    "df.category_modify = df.category_modify.fillna('기타')\n",
    "df = df.fillna(0)\n",
    "\n",
    "#세일가 -> 세일 %로 변경\n",
    "df['sale_percentage'] = ((df['price'] - df['sale_price'])/df['price'])*100"
   ]
  },
  {
   "cell_type": "code",
   "execution_count": 7,
   "id": "4ddd142f",
   "metadata": {
    "scrolled": true
   },
   "outputs": [],
   "source": [
    "def price_level(col):\n",
    "    cat = df[df.category_modify==col]\n",
    "    per20_cnt = round(len(cat)*0.2)\n",
    "    \n",
    "    sort_price = cat.sort_values('price')\n",
    "\n",
    "    low0 = sort_price.iloc[:per20_cnt].index\n",
    "    low1 = sort_price[per20_cnt:(per20_cnt*2)].index\n",
    "    low2 = sort_price[(per20_cnt*2):(per20_cnt*3)].index\n",
    "    low3 = sort_price[(per20_cnt*3):(per20_cnt*4)].index\n",
    "    low4 = sort_price[(per20_cnt*4):].index\n",
    "    return low0,low1,low2,low3,low4"
   ]
  },
  {
   "cell_type": "code",
   "execution_count": 1,
   "id": "d620073c",
   "metadata": {},
   "outputs": [],
   "source": [
    "# df.category_modify.unique()"
   ]
  },
  {
   "cell_type": "code",
   "execution_count": 9,
   "id": "56fbaa22",
   "metadata": {},
   "outputs": [],
   "source": [
    "# 가격등급 칼럼에 아예 카테고리 정보도 넣자(ex. 에센스-고가)\n",
    "# 썬제품에서는 2만원이 고가인데, 토너에서는 10만원이 고가고, 이런 상황x\n",
    "df['level'] = None\n",
    "\n",
    "for col in df.category_modify.unique():\n",
    "    low0,low1,low2,low3,low4 = price_level(col)\n",
    "    df.loc[low0, 'level'] = col+'0'\n",
    "    df.loc[low1, 'level'] = col+'1'\n",
    "    df.loc[low2, 'level'] = col+'2'\n",
    "    df.loc[low3, 'level'] = col+'3'\n",
    "    df.loc[low4, 'level'] = col+'4'\n",
    "    \n",
    "# 결론 -> 그다지 좋은 결과x\n",
    "# 데이터 수가 적어서 지나치게 세분화되는 느낌"
   ]
  },
  {
   "cell_type": "code",
   "execution_count": 149,
   "id": "b54ef7f5",
   "metadata": {},
   "outputs": [],
   "source": [
    "from sklearn.preprocessing import LabelEncoder, MinMaxScaler\n",
    "import numpy as np\n",
    "\n",
    "#원핫 인코딩: 카테고리\n",
    "dummy_df = pd.get_dummies(df.category_modify)\n",
    "new_df = pd.concat([df, dummy_df], axis=1)\n",
    "new_df.drop('category_modify',axis=1, inplace=True)\n",
    "\n",
    "#원핫 인코딩: 가격등급\n",
    "dummy_df = pd.get_dummies(new_df.level)\n",
    "new_df = pd.concat([new_df, dummy_df], axis=1)\n",
    "new_df.drop('level',axis=1, inplace=True)\n",
    "\n",
    "# #원핫 인코딩: 브랜드명(983개 칼럼)\n",
    "# dummy_df_brand = pd.get_dummies(new_df.brand_name)\n",
    "# new_df = pd.concat([new_df, dummy_df_brand], axis=1)\n",
    "# new_df.drop('brand_name', axis=1, inplace=True)\n",
    "\n",
    "# 레이블 인코딩: 브랜드명\n",
    "label_encoder = LabelEncoder()\n",
    "new_df.brand_name = label_encoder.fit_transform(new_df.brand_name)\n",
    "\n",
    "#로그변환: 가격\n",
    "new_df['log_price'] = np.log(new_df['price'] + 1)\n",
    "\n",
    "#스케일러: 타겟값은 스케일링 하면 값 복구가 힘듬\n",
    "# scaler = MinMaxScaler()\n",
    "# new_df['price_minmax'] = scaler.fit_transform(new_df['price'].values.reshape(-1,1))\n",
    "# new_df['price_minmax'] = new_df['price_minmax'].apply(lambda x: x*100)"
   ]
  },
  {
   "cell_type": "code",
   "execution_count": 2,
   "id": "83ee05ff",
   "metadata": {
    "scrolled": false
   },
   "outputs": [],
   "source": [
    "import seaborn as sns\n",
    "import matplotlib.pyplot as plt\n",
    "corr_matrix = new_df.corr()\n",
    "sort_df = corr_matrix['price'].abs().sort_values(ascending=False)\n",
    "\n",
    "sort_df[sort_df<0.01].index\n",
    "# sort_df[:20]"
   ]
  },
  {
   "cell_type": "code",
   "execution_count": 710,
   "id": "45ad6db8",
   "metadata": {},
   "outputs": [
    {
     "name": "stdout",
     "output_type": "stream",
     "text": [
      "level        0  1  2  3  4\n",
      "brand_name                \n",
      "3DAMO        0  5  0  0  0\n",
      "40패덤즈        0  2  0  1  2\n",
      "A3F on       0  0  0  1  0\n",
      "AU8          0  0  0  2  1\n",
      "AYU25        1  0  1  2  1\n",
      "...         .. .. .. .. ..\n",
      "후르디아         5  1  3  1  0\n",
      "휘게           2  1  1  1  0\n",
      "히든랩          0  4  0  3  0\n",
      "히말라야        17  4  1  0  0\n",
      "힐시드          3  0  0  0  0\n",
      "\n",
      "[983 rows x 5 columns]\n"
     ]
    }
   ],
   "source": [
    "# 브랜드별로 레벨별 개수 세기 ->\n",
    "# 저가/중저가/중가/고가/최고가 별 브랜드 나눠보는 것도 좋을 듯\n",
    "#(현재는 칼럼이 너무 많고, 영향도 낮음)\n",
    "\n",
    "# level_counts_by_brand = df.groupby(['brand_name', 'level']).size().unstack(fill_value=0)\n",
    "# print(level_counts_by_brand)"
   ]
  },
  {
   "cell_type": "code",
   "execution_count": 154,
   "id": "59922d51",
   "metadata": {},
   "outputs": [],
   "source": [
    "from sklearn.model_selection import train_test_split\n",
    "target = 'log_price'\n",
    "x = new_df.drop(['product_code','price','sale_price',\n",
    "                target],axis=1)\n",
    "y = new_df[target]\n",
    "\n",
    "x_train, x_test, y_train, y_test = train_test_split(x,y,\n",
    "                                test_size=0.2, random_state=42)\n",
    "x_train, x_val, y_train, y_val = train_test_split(x_train,y_train,\n",
    "                                test_size=0.3, random_state=42)"
   ]
  },
  {
   "cell_type": "code",
   "execution_count": 155,
   "id": "146ce5c5",
   "metadata": {},
   "outputs": [
    {
     "name": "stdout",
     "output_type": "stream",
     "text": [
      "3466 1486 1239\n",
      "3466 1486 1239\n"
     ]
    }
   ],
   "source": [
    "print(len(x_train), len(x_val), len(x_test))\n",
    "print(len(y_train), len(y_val), len(y_test))"
   ]
  },
  {
   "cell_type": "code",
   "execution_count": 156,
   "id": "13f9b7dd",
   "metadata": {},
   "outputs": [],
   "source": [
    "from sklearn.metrics import mean_absolute_error, mean_squared_error, r2_score\n",
    "def model_metrics(model_pred, y):\n",
    "    model_mse = mean_squared_error(y, model_pred)\n",
    "    model_mae = mean_absolute_error(y, model_pred)\n",
    "    model_r2 = r2_score(y, model_pred)\n",
    "    model_rmse = np.sqrt(model_mse)\n",
    "    model_mpe = np.mean((y-model_pred)/y)*100\n",
    "    \n",
    "    return model_mse,model_mae,model_r2,model_rmse,model_mpe"
   ]
  },
  {
   "cell_type": "code",
   "execution_count": 159,
   "id": "1bfa644f",
   "metadata": {},
   "outputs": [],
   "source": [
    "from sklearn.linear_model import LinearRegression, Ridge, Lasso\n",
    "lr = LinearRegression()\n",
    "rd = Ridge(alpha=0.5, max_iter=100)\n",
    "lass = Lasso(alpha=0.5, max_iter=100)\n",
    "\n",
    "lr.fit(x_train, y_train)\n",
    "rd.fit(x_train, y_train)\n",
    "lass.fit(x_train, y_train)\n",
    "\n",
    "lr_pred = lr.predict(x_val)\n",
    "rd_pred = rd.predict(x_val)\n",
    "lass_pred = lass.predict(x_val)\n",
    "\n",
    "lr_metrics = model_metrics(lr_pred, y_val)\n",
    "rd_metrics = model_metrics(rd_pred, y_val)\n",
    "lass_metrics = model_metrics(lass_pred, y_val)"
   ]
  },
  {
   "cell_type": "code",
   "execution_count": 125,
   "id": "f408cb78",
   "metadata": {},
   "outputs": [
    {
     "name": "stdout",
     "output_type": "stream",
     "text": [
      "(0.10458128807452377, 0.2151357365523238, 0.8940123167283406, 0.3233903030001422, -0.03679704441619799)\n",
      "(0.10453233458777081, 0.21462236278263555, 0.8940619285350466, 0.3233146062085207, -0.05240404072496963)\n",
      "(0.9697193530119516, 0.7159806365697522, 0.01723999061677073, 0.9847432929509861, -0.8218305414987597)\n"
     ]
    }
   ],
   "source": [
    "print(lr_metrics)\n",
    "print(rd_metrics)\n",
    "print(lass_metrics)"
   ]
  },
  {
   "cell_type": "code",
   "execution_count": 126,
   "id": "700e79fb",
   "metadata": {},
   "outputs": [
    {
     "data": {
      "text/html": [
       "<div>\n",
       "<style scoped>\n",
       "    .dataframe tbody tr th:only-of-type {\n",
       "        vertical-align: middle;\n",
       "    }\n",
       "\n",
       "    .dataframe tbody tr th {\n",
       "        vertical-align: top;\n",
       "    }\n",
       "\n",
       "    .dataframe thead th {\n",
       "        text-align: right;\n",
       "    }\n",
       "</style>\n",
       "<table border=\"1\" class=\"dataframe\">\n",
       "  <thead>\n",
       "    <tr style=\"text-align: right;\">\n",
       "      <th></th>\n",
       "      <th>price</th>\n",
       "      <th>lr_pred_ori</th>\n",
       "      <th>rd_pred_ori</th>\n",
       "      <th>lass_pred_ori</th>\n",
       "    </tr>\n",
       "  </thead>\n",
       "  <tbody>\n",
       "    <tr>\n",
       "      <th>2550</th>\n",
       "      <td>11500</td>\n",
       "      <td>10300</td>\n",
       "      <td>10300</td>\n",
       "      <td>24900</td>\n",
       "    </tr>\n",
       "    <tr>\n",
       "      <th>3322</th>\n",
       "      <td>49000</td>\n",
       "      <td>55600</td>\n",
       "      <td>55600</td>\n",
       "      <td>24900</td>\n",
       "    </tr>\n",
       "    <tr>\n",
       "      <th>2352</th>\n",
       "      <td>32000</td>\n",
       "      <td>32600</td>\n",
       "      <td>32400</td>\n",
       "      <td>24900</td>\n",
       "    </tr>\n",
       "    <tr>\n",
       "      <th>5525</th>\n",
       "      <td>35000</td>\n",
       "      <td>42500</td>\n",
       "      <td>42300</td>\n",
       "      <td>24900</td>\n",
       "    </tr>\n",
       "    <tr>\n",
       "      <th>3784</th>\n",
       "      <td>70000</td>\n",
       "      <td>56400</td>\n",
       "      <td>56000</td>\n",
       "      <td>26200</td>\n",
       "    </tr>\n",
       "    <tr>\n",
       "      <th>52</th>\n",
       "      <td>98000</td>\n",
       "      <td>144300</td>\n",
       "      <td>142900</td>\n",
       "      <td>24900</td>\n",
       "    </tr>\n",
       "    <tr>\n",
       "      <th>3012</th>\n",
       "      <td>25500</td>\n",
       "      <td>23900</td>\n",
       "      <td>23900</td>\n",
       "      <td>24900</td>\n",
       "    </tr>\n",
       "    <tr>\n",
       "      <th>3196</th>\n",
       "      <td>8000</td>\n",
       "      <td>4900</td>\n",
       "      <td>4900</td>\n",
       "      <td>26700</td>\n",
       "    </tr>\n",
       "    <tr>\n",
       "      <th>2513</th>\n",
       "      <td>37000</td>\n",
       "      <td>39300</td>\n",
       "      <td>39500</td>\n",
       "      <td>25300</td>\n",
       "    </tr>\n",
       "    <tr>\n",
       "      <th>4598</th>\n",
       "      <td>14900</td>\n",
       "      <td>9700</td>\n",
       "      <td>9800</td>\n",
       "      <td>24900</td>\n",
       "    </tr>\n",
       "  </tbody>\n",
       "</table>\n",
       "</div>"
      ],
      "text/plain": [
       "      price  lr_pred_ori  rd_pred_ori  lass_pred_ori\n",
       "2550  11500        10300        10300          24900\n",
       "3322  49000        55600        55600          24900\n",
       "2352  32000        32600        32400          24900\n",
       "5525  35000        42500        42300          24900\n",
       "3784  70000        56400        56000          26200\n",
       "52    98000       144300       142900          24900\n",
       "3012  25500        23900        23900          24900\n",
       "3196   8000         4900         4900          26700\n",
       "2513  37000        39300        39500          25300\n",
       "4598  14900         9700         9800          24900"
      ]
     },
     "execution_count": 126,
     "metadata": {},
     "output_type": "execute_result"
    }
   ],
   "source": [
    "pred = pd.DataFrame({'price':y_val,'lr_pred':lr_pred,\n",
    "                     'rd_pred':rd_pred, 'lass_pred':lass_pred})\n",
    "idx = pred.index\n",
    "pred['price'] = df.price[idx].astype(int)\n",
    "\n",
    "pred['lr_pred_ori'] = round(np.exp(pred.lr_pred), -2).astype(int)\n",
    "pred['rd_pred_ori'] = round(np.exp(pred.rd_pred), -2).astype(int)\n",
    "pred['lass_pred_ori'] = round(np.exp(pred.lass_pred), -2).astype(int)\n",
    "\n",
    "pred[['price','lr_pred_ori','rd_pred_ori','lass_pred_ori']][20:30]"
   ]
  },
  {
   "cell_type": "code",
   "execution_count": 127,
   "id": "61014aff",
   "metadata": {
    "scrolled": true
   },
   "outputs": [
    {
     "name": "stdout",
     "output_type": "stream",
     "text": [
      "brand_name: 3.3018818194468924e-06\n",
      "review_num: 4.6796731667760996e-05\n",
      "sale_percentage: 0.01002949286455978\n"
     ]
    }
   ],
   "source": [
    "#라쏘에서 사용된 모델 특성(피처) 확인\n",
    "lasso_coef = lass.coef_\n",
    "for feature, coef in zip(x.columns, lasso_coef):\n",
    "    if coef != 0:\n",
    "        print(f\"{feature}: {coef}\")"
   ]
  },
  {
   "cell_type": "code",
   "execution_count": 128,
   "id": "82db6471",
   "metadata": {},
   "outputs": [],
   "source": [
    "#앙상블 모델(랜덤포레스트 2개)\n",
    "from sklearn.ensemble import RandomForestRegressor\n",
    "rf1 = RandomForestRegressor(n_estimators=200, \n",
    "                            min_samples_split=2)\n",
    "rf2 = RandomForestRegressor(n_estimators=200, \n",
    "                            min_samples_split=2)\n",
    "\n",
    "rf1.fit(x_train, y_train)\n",
    "rf2.fit(x_train, y_train)\n",
    "\n",
    "pred1 = rf1.predict(x_val)\n",
    "pred2 = rf2.predict(x_val)\n",
    "\n",
    "ensemble_pred = (pred1 + pred2) / 2"
   ]
  },
  {
   "cell_type": "code",
   "execution_count": 176,
   "id": "b8b60503",
   "metadata": {},
   "outputs": [
    {
     "data": {
      "text/plain": [
       "(0.09424398392548969,\n",
       " 0.193710279916369,\n",
       " 0.9044886355632158,\n",
       " 0.306991830388839,\n",
       " -0.005243186816009736)"
      ]
     },
     "execution_count": 176,
     "metadata": {},
     "output_type": "execute_result"
    }
   ],
   "source": [
    "# print(model_metrics(pred['lr_pred_ori'], pred['price']))\n",
    "\n",
    "rf_ans_metrics = model_metrics(ensemble_pred, y_val)\n",
    "rf_ans_metrics"
   ]
  },
  {
   "cell_type": "code",
   "execution_count": 131,
   "id": "66e7eb0e",
   "metadata": {},
   "outputs": [],
   "source": [
    "#로그변환 되돌리기\n",
    "pred['rf_ans_pred_ori'] = np.round(np.exp(ensemble_pred),-2).astype(int)"
   ]
  },
  {
   "cell_type": "code",
   "execution_count": 132,
   "id": "04252876",
   "metadata": {},
   "outputs": [
    {
     "data": {
      "text/html": [
       "<div>\n",
       "<style scoped>\n",
       "    .dataframe tbody tr th:only-of-type {\n",
       "        vertical-align: middle;\n",
       "    }\n",
       "\n",
       "    .dataframe tbody tr th {\n",
       "        vertical-align: top;\n",
       "    }\n",
       "\n",
       "    .dataframe thead th {\n",
       "        text-align: right;\n",
       "    }\n",
       "</style>\n",
       "<table border=\"1\" class=\"dataframe\">\n",
       "  <thead>\n",
       "    <tr style=\"text-align: right;\">\n",
       "      <th></th>\n",
       "      <th>price</th>\n",
       "      <th>lr_pred_ori</th>\n",
       "      <th>rd_pred_ori</th>\n",
       "      <th>rf_ans_pred_ori</th>\n",
       "    </tr>\n",
       "  </thead>\n",
       "  <tbody>\n",
       "    <tr>\n",
       "      <th>2976</th>\n",
       "      <td>55000</td>\n",
       "      <td>40300</td>\n",
       "      <td>40100</td>\n",
       "      <td>44400</td>\n",
       "    </tr>\n",
       "    <tr>\n",
       "      <th>6006</th>\n",
       "      <td>9400</td>\n",
       "      <td>12800</td>\n",
       "      <td>12900</td>\n",
       "      <td>12400</td>\n",
       "    </tr>\n",
       "    <tr>\n",
       "      <th>2171</th>\n",
       "      <td>29700</td>\n",
       "      <td>31000</td>\n",
       "      <td>31100</td>\n",
       "      <td>29600</td>\n",
       "    </tr>\n",
       "    <tr>\n",
       "      <th>6188</th>\n",
       "      <td>24000</td>\n",
       "      <td>21800</td>\n",
       "      <td>21800</td>\n",
       "      <td>22800</td>\n",
       "    </tr>\n",
       "    <tr>\n",
       "      <th>1607</th>\n",
       "      <td>26790</td>\n",
       "      <td>22600</td>\n",
       "      <td>22600</td>\n",
       "      <td>24800</td>\n",
       "    </tr>\n",
       "    <tr>\n",
       "      <th>3884</th>\n",
       "      <td>44000</td>\n",
       "      <td>58800</td>\n",
       "      <td>58700</td>\n",
       "      <td>57900</td>\n",
       "    </tr>\n",
       "    <tr>\n",
       "      <th>572</th>\n",
       "      <td>17600</td>\n",
       "      <td>17600</td>\n",
       "      <td>17600</td>\n",
       "      <td>18600</td>\n",
       "    </tr>\n",
       "    <tr>\n",
       "      <th>4747</th>\n",
       "      <td>110200</td>\n",
       "      <td>121300</td>\n",
       "      <td>120300</td>\n",
       "      <td>91300</td>\n",
       "    </tr>\n",
       "    <tr>\n",
       "      <th>10</th>\n",
       "      <td>5100</td>\n",
       "      <td>10500</td>\n",
       "      <td>10600</td>\n",
       "      <td>10600</td>\n",
       "    </tr>\n",
       "    <tr>\n",
       "      <th>5235</th>\n",
       "      <td>20000</td>\n",
       "      <td>19000</td>\n",
       "      <td>19000</td>\n",
       "      <td>20900</td>\n",
       "    </tr>\n",
       "  </tbody>\n",
       "</table>\n",
       "</div>"
      ],
      "text/plain": [
       "       price  lr_pred_ori  rd_pred_ori  rf_ans_pred_ori\n",
       "2976   55000        40300        40100            44400\n",
       "6006    9400        12800        12900            12400\n",
       "2171   29700        31000        31100            29600\n",
       "6188   24000        21800        21800            22800\n",
       "1607   26790        22600        22600            24800\n",
       "3884   44000        58800        58700            57900\n",
       "572    17600        17600        17600            18600\n",
       "4747  110200       121300       120300            91300\n",
       "10      5100        10500        10600            10600\n",
       "5235   20000        19000        19000            20900"
      ]
     },
     "execution_count": 132,
     "metadata": {},
     "output_type": "execute_result"
    }
   ],
   "source": [
    "pred[['price','lr_pred_ori','rd_pred_ori',\n",
    "      'rf_ans_pred_ori']][1400:1410]"
   ]
  },
  {
   "cell_type": "code",
   "execution_count": 178,
   "id": "48fa4056",
   "metadata": {},
   "outputs": [
    {
     "data": {
      "text/plain": [
       "(76728936.44683714,\n",
       " 13006.890982503364,\n",
       " 0.980006445268236,\n",
       " 8759.505490998743,\n",
       " -5.1953331810142656)"
      ]
     },
     "execution_count": 178,
     "metadata": {},
     "output_type": "execute_result"
    }
   ],
   "source": [
    "model_metrics(pred['lr_pred_ori'], pred['price'])"
   ]
  },
  {
   "cell_type": "code",
   "execution_count": 723,
   "id": "ce75d88b",
   "metadata": {},
   "outputs": [
    {
     "name": "stdout",
     "output_type": "stream",
     "text": [
      "Best Parameters: {'max_depth': 15, 'min_samples_split': 2, 'n_estimators': 200}\n",
      "Best Score: -0.09560620553237734\n"
     ]
    }
   ],
   "source": [
    "#그리드 서치\n",
    "from sklearn.model_selection import GridSearchCV\n",
    "from sklearn.ensemble import RandomForestRegressor\n",
    "\n",
    "model = RandomForestRegressor()\n",
    "param_grid = {\n",
    "    'n_estimators': [200, 250, 300],\n",
    "    'max_depth': [None, 5, 10, 15],\n",
    "    'min_samples_split': [2]\n",
    "}\n",
    "\n",
    "grid_search = GridSearchCV(estimator=model, param_grid=\n",
    "            param_grid, cv=5, scoring='neg_mean_squared_error')\n",
    "grid_search.fit(x_train, y_train)\n",
    "\n",
    "print(\"Best Parameters:\", grid_search.best_params_)\n",
    "print(\"Best Score:\", grid_search.best_score_)"
   ]
  },
  {
   "cell_type": "code",
   "execution_count": 464,
   "id": "335740b6",
   "metadata": {},
   "outputs": [],
   "source": [
    "# !pip install xgboost"
   ]
  },
  {
   "cell_type": "code",
   "execution_count": 134,
   "id": "77acd5bb",
   "metadata": {
    "scrolled": true
   },
   "outputs": [
    {
     "name": "stdout",
     "output_type": "stream",
     "text": [
      "[LightGBM] [Info] Auto-choosing row-wise multi-threading, the overhead of testing was 0.001157 seconds.\n",
      "You can set `force_row_wise=true` to remove the overhead.\n",
      "And if memory is not enough, you can set `force_col_wise=true`.\n",
      "[LightGBM] [Info] Total Bins 797\n",
      "[LightGBM] [Info] Number of data points in the train set: 3466, number of used features: 92\n",
      "[LightGBM] [Info] Start training from score 10.171039\n"
     ]
    }
   ],
   "source": [
    "import xgboost as xgb\n",
    "import lightgbm as lgb\n",
    "\n",
    "xgb_model = xgb.XGBRegressor()\n",
    "lgb_model = lgb.LGBMRegressor(learning_rate=0.15,\n",
    "                           n_estimators=300)\n",
    "\n",
    "xgb_model.fit(x_train, y_train)\n",
    "lgb_model.fit(x_train, y_train)\n",
    "\n",
    "xgb_pred = xgb_model.predict(x_val)\n",
    "lgb_pred = lgb_model.predict(x_val)"
   ]
  },
  {
   "cell_type": "code",
   "execution_count": 135,
   "id": "bd8b34b5",
   "metadata": {},
   "outputs": [
    {
     "data": {
      "text/plain": [
       "(0.09410557363552145,\n",
       " 0.19740135057952327,\n",
       " 0.9046289071762813,\n",
       " 0.3067663176352995,\n",
       " -0.028876911377107593)"
      ]
     },
     "execution_count": 135,
     "metadata": {},
     "output_type": "execute_result"
    }
   ],
   "source": [
    "model_metrics(xgb_pred, y_val)"
   ]
  },
  {
   "cell_type": "code",
   "execution_count": 136,
   "id": "cd43b4e2",
   "metadata": {},
   "outputs": [
    {
     "data": {
      "text/plain": [
       "(0.09820119899641329,\n",
       " 0.20993087569889315,\n",
       " 0.900478204392431,\n",
       " 0.31337070538966033,\n",
       " 0.012026328506030906)"
      ]
     },
     "execution_count": 136,
     "metadata": {},
     "output_type": "execute_result"
    }
   ],
   "source": [
    "model_metrics(lgb_pred, y_val)"
   ]
  },
  {
   "cell_type": "code",
   "execution_count": 137,
   "id": "a1d472cd",
   "metadata": {},
   "outputs": [],
   "source": [
    "#로그변환 되돌리기\n",
    "pred['lgb_pred_ori'] = np.round(np.exp(lgb_pred),-2).astype(int)\n",
    "pred['xgb_pred_ori'] = np.round(np.exp(xgb_pred),-2).astype(int)"
   ]
  },
  {
   "cell_type": "code",
   "execution_count": 138,
   "id": "92f2c710",
   "metadata": {
    "scrolled": true
   },
   "outputs": [
    {
     "data": {
      "text/html": [
       "<div>\n",
       "<style scoped>\n",
       "    .dataframe tbody tr th:only-of-type {\n",
       "        vertical-align: middle;\n",
       "    }\n",
       "\n",
       "    .dataframe tbody tr th {\n",
       "        vertical-align: top;\n",
       "    }\n",
       "\n",
       "    .dataframe thead th {\n",
       "        text-align: right;\n",
       "    }\n",
       "</style>\n",
       "<table border=\"1\" class=\"dataframe\">\n",
       "  <thead>\n",
       "    <tr style=\"text-align: right;\">\n",
       "      <th></th>\n",
       "      <th>price</th>\n",
       "      <th>lr_pred_ori</th>\n",
       "      <th>rd_pred_ori</th>\n",
       "      <th>rf_ans_pred_ori</th>\n",
       "      <th>lgb_pred_ori</th>\n",
       "      <th>xgb_pred_ori</th>\n",
       "    </tr>\n",
       "  </thead>\n",
       "  <tbody>\n",
       "    <tr>\n",
       "      <th>1853</th>\n",
       "      <td>55000</td>\n",
       "      <td>41900</td>\n",
       "      <td>42000</td>\n",
       "      <td>43200</td>\n",
       "      <td>46800</td>\n",
       "      <td>41200</td>\n",
       "    </tr>\n",
       "    <tr>\n",
       "      <th>3745</th>\n",
       "      <td>52000</td>\n",
       "      <td>54700</td>\n",
       "      <td>55100</td>\n",
       "      <td>44500</td>\n",
       "      <td>40000</td>\n",
       "      <td>43100</td>\n",
       "    </tr>\n",
       "    <tr>\n",
       "      <th>3548</th>\n",
       "      <td>78000</td>\n",
       "      <td>132400</td>\n",
       "      <td>132000</td>\n",
       "      <td>137300</td>\n",
       "      <td>116400</td>\n",
       "      <td>161900</td>\n",
       "    </tr>\n",
       "    <tr>\n",
       "      <th>216</th>\n",
       "      <td>55000</td>\n",
       "      <td>73900</td>\n",
       "      <td>73200</td>\n",
       "      <td>75500</td>\n",
       "      <td>75100</td>\n",
       "      <td>85800</td>\n",
       "    </tr>\n",
       "    <tr>\n",
       "      <th>829</th>\n",
       "      <td>8000</td>\n",
       "      <td>5400</td>\n",
       "      <td>5400</td>\n",
       "      <td>5500</td>\n",
       "      <td>4100</td>\n",
       "      <td>5300</td>\n",
       "    </tr>\n",
       "  </tbody>\n",
       "</table>\n",
       "</div>"
      ],
      "text/plain": [
       "      price  lr_pred_ori  rd_pred_ori  rf_ans_pred_ori  lgb_pred_ori  \\\n",
       "1853  55000        41900        42000            43200         46800   \n",
       "3745  52000        54700        55100            44500         40000   \n",
       "3548  78000       132400       132000           137300        116400   \n",
       "216   55000        73900        73200            75500         75100   \n",
       "829    8000         5400         5400             5500          4100   \n",
       "\n",
       "      xgb_pred_ori  \n",
       "1853         41200  \n",
       "3745         43100  \n",
       "3548        161900  \n",
       "216          85800  \n",
       "829           5300  "
      ]
     },
     "execution_count": 138,
     "metadata": {},
     "output_type": "execute_result"
    }
   ],
   "source": [
    "pred[['price','lr_pred_ori','rd_pred_ori',\n",
    "      'rf_ans_pred_ori',\n",
    "     'lgb_pred_ori','xgb_pred_ori']][100:105]"
   ]
  },
  {
   "cell_type": "code",
   "execution_count": 179,
   "id": "29e428d5",
   "metadata": {},
   "outputs": [
    {
     "name": "stdout",
     "output_type": "stream",
     "text": [
      "(84269005.44279946, 12142.812920592194, 0.978041700425767, 9179.815109401685, -4.789623263639326) \n",
      "\n",
      "(91833638.04576044, 11729.152086137281, 0.9760705549495388, 9582.986906270948, -4.681987184008457)\n"
     ]
    }
   ],
   "source": [
    "print(model_metrics(pred['xgb_pred_ori'], pred['price']), '\\n')\n",
    "print(model_metrics(pred['lgb_pred_ori'], pred['price']))"
   ]
  },
  {
   "cell_type": "code",
   "execution_count": 730,
   "id": "0ec9ba2a",
   "metadata": {},
   "outputs": [
    {
     "name": "stdout",
     "output_type": "stream",
     "text": [
      "(0.08296200643168865, 0.19941697789049104, 0.9115023276078792, 0.28803125946967745, 0.07768903659500252)\n",
      "(0.08295939137904715, 0.2030956793171262, 0.9115051171507303, 0.2880267199046768, 0.06228668108820171)\n"
     ]
    }
   ],
   "source": [
    "#테스트 셋에도 비슷하게 나옴\n",
    "xgb_test = xgb_model.predict(x_test)\n",
    "lgb_test = lgb_model.predict(x_test)\n",
    "print(model_metrics(xgb_test, y_test))\n",
    "print(model_metrics(lgb_test, y_test))"
   ]
  }
 ],
 "metadata": {
  "kernelspec": {
   "display_name": "Python 3 (ipykernel)",
   "language": "python",
   "name": "python3"
  },
  "language_info": {
   "codemirror_mode": {
    "name": "ipython",
    "version": 3
   },
   "file_extension": ".py",
   "mimetype": "text/x-python",
   "name": "python",
   "nbconvert_exporter": "python",
   "pygments_lexer": "ipython3",
   "version": "3.11.4"
  }
 },
 "nbformat": 4,
 "nbformat_minor": 5
}
