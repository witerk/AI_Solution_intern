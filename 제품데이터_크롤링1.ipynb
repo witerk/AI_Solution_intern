{
 "cells": [
  {
   "cell_type": "code",
   "execution_count": 1,
   "id": "ad1b9654",
   "metadata": {},
   "outputs": [],
   "source": [
    "import time, os, random, re, requests\n",
    "from io import BytesIO\n",
    "import pandas as pd\n",
    "import numpy as np\n",
    "from bs4 import BeautifulSoup\n",
    "import urllib.request\n",
    "from selenium import webdriver\n",
    "from selenium.webdriver.common.by import By\n",
    "from PIL import Image\n",
    "\n",
    "from selenium.common.exceptions import NoSuchElementException,WebDriverException\n",
    "import warnings\n",
    "warnings.filterwarnings('ignore')"
   ]
  },
  {
   "cell_type": "code",
   "execution_count": 22,
   "id": "ec9bdf40",
   "metadata": {},
   "outputs": [],
   "source": [
    "#제품코드 -> 문자로 읽어옴\n",
    "df = pd.read_excel(r'D:\\ODOC\\jupyter_notebook\\제품데이터_FULL\\화장품 통합 데이터_유니크_V3.xlsx',\n",
    "                  dtype={'product_code':str})\n",
    "\n",
    "#가격 -> 없는 경우 세일가=가격으로 채우기\n",
    "#소수점 삭제\n",
    "idx = df.price.isna()\n",
    "df.loc[idx, 'price'] = df.loc[idx, 'sale_price']\n",
    "df.price = df.price.apply(round)"
   ]
  },
  {
   "cell_type": "code",
   "execution_count": 1,
   "id": "82015b11",
   "metadata": {
    "scrolled": true
   },
   "outputs": [],
   "source": [
    "# df.head()"
   ]
  },
  {
   "cell_type": "code",
   "execution_count": 1,
   "id": "bb33ea02",
   "metadata": {},
   "outputs": [],
   "source": [
    "#화장품 사이트: 제품 카테고리 코드\n",
    "categories = {'스킨케어':{'스킨/토너': '100000100010013',\n",
    "                  '에센스/세럼/앰플': '100000100010014',\n",
    "                  '크림': '100000100010015',\n",
    "                  '로션': '100000100010016',\n",
    "                  '미스트/오일': '100000100010010'},\n",
    "             '마스크팩':{'시트팩': '100000100090001',\n",
    "                  '패드': '100000100090004',\n",
    "                  '페이셜팩': '100000100090002',\n",
    "                  '코팩': '100000100090005',\n",
    "                  '패치': '100000100090006'},\n",
    "             '클렌징':{'클렌징폼/젤': '100000100100001',\n",
    "                  '오일/밤': '100000100100004',\n",
    "                  '워터/티슈/밀크': '100000100100005',\n",
    "                  '필링/스크럽': '100000100100007',\n",
    "                  '립&아이리무버': '100000100100006'},\n",
    "             '선케어':{'선블록': '100000100110001', \n",
    "                     '태닝/애프터선': '100000100110002'},\n",
    "             '메이크업':{'립메이크업': '100000100020006',\n",
    "                  '베이스메이크업': '100000100020001',\n",
    "                  '아이메이크업': '100000100020007'},\n",
    "             '더모코스메틱':{'스킨케어': '100000100080013',\n",
    "                  '바디케어': '100000100080004',\n",
    "                  '클렌징': '100000100080006',\n",
    "                  '선케어': '100000100080005',\n",
    "                  '마스크팩': '100000100080011'},\n",
    "             '맨즈케어':{'스킨케어': '100000100070007',\n",
    "                  '메이크업': '100000100070008',\n",
    "                  '헤어케어': '100000100070009',\n",
    "                  '바디케어': '100000100070011',\n",
    "                  '프래그런스/라이프': '100000100070017'},\n",
    "             '향수':{'여성향수': '100000100050003',\n",
    "                  '남성향수': '100000100050004',\n",
    "                  '유니섹스향수': '100000100050011',\n",
    "                  '고체향수': '100000100050010'},\n",
    "             '헤어케어':{'샴푸/린스': '100000100040008',\n",
    "                  '트리트먼트/팩': '100000100040007',\n",
    "                  '헤어에센스': '100000100040013',\n",
    "                  '스타일링': '100000100040011'},\n",
    "             '바디케어':{'로션/오일': '100000100030014',\n",
    "                  '샤워/입욕': '100000100030005',\n",
    "                  '립케어': '100000100030008',\n",
    "                  '핸드케어': '100000100030016',\n",
    "                  '바디미스트': '100000100030015',\n",
    "                  '맘&베이비': '100000100030020'}}"
   ]
  },
  {
   "cell_type": "code",
   "execution_count": 3,
   "id": "d853f1ee",
   "metadata": {},
   "outputs": [],
   "source": [
    "# 각 상세페이지 링크 따오기\n",
    "def detail_link(num):\n",
    "    href_list=[]   #제품 페이지 링크\n",
    "    goodsno_list=[]   #제품 코드\n",
    "    img_list=[]   #제품 이미지\n",
    "    page = 0\n",
    "    \n",
    "    while (page != -1):   #and (page<10)  ->가져올 페이지 수 제한\n",
    "        page += 1\n",
    "        url = f'https://www.oliveyoung.co.kr/store/display/getMCategoryList.do?dispCatNo={num}&fltDispCatNo=&prdSort=01&pageIdx={page}&rowsPerPage=24&searchTypeSort=btn_thumb&plusButtonFlag=N&isLoginCnt=0&aShowCnt=0&bShowCnt=0&cShowCnt=0&trackingCd=Cat100000100010013_Small&amplitudePageGubun=&t_page=&t_click=&midCategory=%EC%8A%A4%ED%82%A8%2F%ED%86%A0%EB%84%88&smallCategory=%EC%A0%84%EC%B2%B4&checkBrnds=&lastChkBrnd='\n",
    "        #카테고리, 페이지 바꿔가며 url 생성\n",
    "        driver.get(url)\n",
    "        time.sleep(random.uniform(0.1, 0.3))\n",
    "        \n",
    "        for n in range(2,8):\n",
    "            for m in range(1,5):\n",
    "                xpath = f'//*[@id=\"Contents\"]/ul[{n}]/li[{m}]/div/a'\n",
    "                xpath_img = f'//*[@id=\"Contents\"]/ul[{n}]/li[{m}]/div/a/img'\n",
    "                \n",
    "                try: \n",
    "                    goodsno = driver.find_element(By.XPATH, xpath).get_attribute('data-ref-goodsno')\n",
    "                    link = driver.find_element(By.XPATH, xpath).get_attribute('href')\n",
    "                    img = driver.find_element(By.XPATH, xpath_img).get_attribute('src')\n",
    "                    \n",
    "                    goodsno_list.append(goodsno)\n",
    "                    href_list.append(link)\n",
    "                    img_list.append(img)\n",
    "\n",
    "                except NoSuchElementException: \n",
    "                    page=-1\n",
    "                    \n",
    "    return goodsno_list, href_list, img_list"
   ]
  },
  {
   "cell_type": "code",
   "execution_count": null,
   "id": "62a401df",
   "metadata": {},
   "outputs": [],
   "source": [
    "## 데이터프레임 생성\n",
    "# new_df = pd.DataFrame(columns=['goodsno','category','images','LINK'])"
   ]
  },
  {
   "cell_type": "code",
   "execution_count": 43,
   "id": "4347410e",
   "metadata": {},
   "outputs": [],
   "source": [
    "driver = webdriver.Chrome()\n",
    "for key in categories.keys():\n",
    "    for sub_cat, num in categories[key].items():\n",
    "        goods, href, imgs = detail_link(num)\n",
    "        cat = key+'_'+sub_cat\n",
    "        \n",
    "        pd_df = pd.DataFrame({'goodsno': goods, 'category': cat, 'images':imgs,'LINK': href})\n",
    "        new_df = pd.concat([new_df, pd_df], ignore_index=True)\n",
    "driver.quit()"
   ]
  },
  {
   "cell_type": "code",
   "execution_count": 61,
   "id": "5f7e5be5",
   "metadata": {},
   "outputs": [],
   "source": [
    "#중복제거 & 인덱스 재배열\n",
    "new_df.drop_duplicates(subset='goodsno', inplace=True)\n",
    "new_df.reset_index(drop=True, inplace=True)"
   ]
  },
  {
   "cell_type": "code",
   "execution_count": 115,
   "id": "f4e2879b",
   "metadata": {},
   "outputs": [],
   "source": [
    "#제품번호 붙여주기 (기존 데이터 이후로)\n",
    "for i in range(len(new_df)):\n",
    "    new_df.product_code.iloc[i] = '{:09d}'.format(6192+i)"
   ]
  },
  {
   "cell_type": "code",
   "execution_count": 5,
   "id": "d586b6cd",
   "metadata": {},
   "outputs": [],
   "source": [
    "# new_df = pd.read_excel(r'D:\\ODOC\\jupyter_notebook\\제품데이터_FULL\\화장품 통합 데이터_유니크_V3_plus.xlsx')\n",
    "# new_df"
   ]
  },
  {
   "cell_type": "code",
   "execution_count": 2,
   "id": "1381589d",
   "metadata": {},
   "outputs": [],
   "source": [
    "def CSS(selector):\n",
    "    try:\n",
    "        return driver.find_element(By.CSS, selector).text\n",
    "    except: return None \n",
    "    \n",
    "def XPATH(path):\n",
    "    try:\n",
    "        return driver.find_element(By.XPATH, path).text\n",
    "    except: return None "
   ]
  },
  {
   "cell_type": "code",
   "execution_count": 72,
   "id": "a32b610b",
   "metadata": {},
   "outputs": [],
   "source": [
    "# 제품 상세정보 크롤링\n",
    "def product_detail_crawling(url):\n",
    "    image_list, name, brand, price, sale_price = None,None,None,None,None\n",
    "    driver.get(url)\n",
    "    time.sleep(random.uniform(0.5, 1))\n",
    "\n",
    "    #상세페이지 이미지\n",
    "    css_selector=[\n",
    "#     '#Contents > div.tabConts.prd_detail_cont.show > div.detail_area > div.contEditor > img',\n",
    "#     '#Contents > div.tabConts.prd_detail_cont.show > div.detail_area > div.contEditor > center > p > img',\n",
    "#     '#Contents > div.tabConts.prd_detail_cont.show > div.detail_area > div.contEditor > div > div > img',\n",
    "#     '#Contents > div.tabConts.prd_detail_cont.show > div.detail_area > div.contEditor > div > img',\n",
    "#     '#Contents > div.tabConts.prd_detail_cont.show > div.detail_area > img',\n",
    "#     '#Contents > div.tabConts.prd_detail_cont.show > div.detail_area > picture > img',\n",
    "    '#Contents > div.tabConts.prd_detail_cont.show > div.detail_area > div.contEditor > p > img',\n",
    "    '#Contents > div.tabConts.prd_detail_cont.show > div.detail_area > div.contEditor > center > img',\n",
    "    '#Contents > div.tabConts.prd_detail_cont.show > div.detail_area > div.contEditor > aa > img',\n",
    "    ]\n",
    "    \n",
    "    for css in css_selector:\n",
    "        try:\n",
    "            images = driver.find_elements(By.CSS_SELECTOR, css)\n",
    "            if len(images)!=0:\n",
    "                image_list = [img.get_attribute('src') for img in images]\n",
    "                break\n",
    "        except NoSuchElementException: \n",
    "            print('pass')\n",
    "            pass\n",
    "    \n",
    "    #제품명 / 브랜드 / 가격 / 세일가\n",
    "    name = XPATH('//*[@id=\"Contents\"]/div[2]/div[2]/div/p[2]')\n",
    "    brand = XPATH('//*[@id=\"moveBrandShop\"]')\n",
    "    price = XPATH('//*[@id=\"Contents\"]/div[2]/div[2]/div/div[1]/span/strong')\n",
    "    price = XPATH('//*[@id=\"Contents\"]/div[2]/div[2]/div/div[1]/span[1]/strike')\n",
    "    sale_price = XPATH('//*[@id=\"Contents\"]/div[2]/div[2]/div/div[1]/span[2]/strong')\n",
    "    \n",
    "    return image_list, name, brand, price, sale_price"
   ]
  },
  {
   "cell_type": "code",
   "execution_count": 78,
   "id": "cd9e19ac",
   "metadata": {},
   "outputs": [],
   "source": [
    "# #새 칼럼들 추가\n",
    "# new_columns=['product_name','brand_name','price','sale_price','detail_images']\n",
    "# new_df = pd.concat([new_df, pd.DataFrame(columns=new_columns)], axis=1)"
   ]
  },
  {
   "cell_type": "code",
   "execution_count": 92,
   "id": "1443acb9",
   "metadata": {
    "scrolled": true
   },
   "outputs": [],
   "source": [
    "from selenium.common.exceptions import TimeoutException\n",
    "driver = webdriver.Chrome()\n",
    "# start, end = 8407, len(new_df)\n",
    "\n",
    "# idx = new_df[new_df.product_name.isna()].index\n",
    "idx = new_df[new_df.price.isna()].index\n",
    "# idx = new_df[new_df.detail_images.isna()].index[::-1]\n",
    "\n",
    "for i in idx:\n",
    "    url = new_df.LINK[i]\n",
    "\n",
    "    try:\n",
    "        data = product_detail_crawling(url)\n",
    "\n",
    "        new_df.loc[i, 'product_name'] = data[1]\n",
    "        new_df.loc[i, 'brand_name'] = data[2]\n",
    "        new_df.loc[i, 'price'] = data[3]\n",
    "        new_df.loc[i, 'sale_price'] = data[4]\n",
    "        \n",
    "        if np.isnan(new_df['detail_images'].iloc[i]):\n",
    "            new_df['detail_images'].iloc[i] = data[0]\n",
    "    \n",
    "    except (Exception,TimeoutException) as e:\n",
    "        print(e)\n",
    "driver.quit()"
   ]
  },
  {
   "cell_type": "code",
   "execution_count": null,
   "id": "fc9192b9",
   "metadata": {},
   "outputs": [],
   "source": [
    "idx = new_df[new_df.price.isna()].index\n",
    "new_df.drop(idx,inplace=True)   #제품페이지 삭제된 경우-> drop"
   ]
  },
  {
   "cell_type": "code",
   "execution_count": 2,
   "id": "932fca54",
   "metadata": {
    "scrolled": true
   },
   "outputs": [],
   "source": [
    "idx = new_df[new_df.detail_images.isna()]#.index[::1]\n",
    "new_df[new_df.detail_images.isna()]"
   ]
  },
  {
   "cell_type": "code",
   "execution_count": 94,
   "id": "c83553ff",
   "metadata": {},
   "outputs": [],
   "source": [
    "#추가 데이터 _plus에 저장\n",
    "new_df.to_excel(r'D:\\ODOC\\jupyter_notebook\\제품데이터_FULL\\화장품 통합 데이터_유니크_V3_plus.xlsx',\n",
    "                index=False)"
   ]
  }
 ],
 "metadata": {
  "kernelspec": {
   "display_name": "Python 3 (ipykernel)",
   "language": "python",
   "name": "python3"
  },
  "language_info": {
   "codemirror_mode": {
    "name": "ipython",
    "version": 3
   },
   "file_extension": ".py",
   "mimetype": "text/x-python",
   "name": "python",
   "nbconvert_exporter": "python",
   "pygments_lexer": "ipython3",
   "version": "3.11.4"
  }
 },
 "nbformat": 4,
 "nbformat_minor": 5
}
