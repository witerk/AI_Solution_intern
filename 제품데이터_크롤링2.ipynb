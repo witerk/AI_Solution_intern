{
 "cells": [
  {
   "cell_type": "code",
   "execution_count": 1,
   "id": "51912d0f",
   "metadata": {},
   "outputs": [],
   "source": [
    "import time, os, random, re, requests\n",
    "from io import BytesIO\n",
    "import pandas as pd\n",
    "import numpy as np\n",
    "from bs4 import BeautifulSoup\n",
    "import urllib.request\n",
    "from selenium import webdriver\n",
    "from selenium.webdriver.common.by import By\n",
    "from PIL import Image\n",
    "\n",
    "from selenium.common.exceptions import NoSuchElementException,WebDriverException\n",
    "import warnings\n",
    "warnings.filterwarnings('ignore')"
   ]
  },
  {
   "cell_type": "code",
   "execution_count": 27,
   "id": "017ec605",
   "metadata": {
    "scrolled": true
   },
   "outputs": [],
   "source": [
    "# IllegalCharacterError 해결(비혀용 문자 제거)\n",
    "import string\n",
    "\n",
    "def remove_nonprintable(text):\n",
    "    if text is not None:\n",
    "        return ''.join(filter(lambda x: x in string.printable, str(text)))\n",
    "    else:\n",
    "        return text\n",
    "\n",
    "columns_to_clean = ['volume', 'manufacturer', 'nation', 'ingr_name', 'inspection', 'review_num', 'review_star']\n",
    "for column in columns_to_clean:\n",
    "    new_df[column] = new_df[column].apply(remove_nonprintable)"
   ]
  },
  {
   "cell_type": "code",
   "execution_count": 28,
   "id": "2806516e",
   "metadata": {
    "scrolled": true
   },
   "outputs": [],
   "source": [
    "# new_df = pd.read_excel(r'D:\\ODOC\\jupyter_notebook\\제품데이터_FULL\\화장품 통합 데이터_유니크_V3_plus_sub.xlsx')\n",
    "new_df.to_excel(r'D:\\ODOC\\jupyter_notebook\\제품데이터_FULL\\화장품 통합 데이터_유니크_V3_plus_sub.xlsx',\n",
    "               index=False)"
   ]
  },
  {
   "cell_type": "code",
   "execution_count": 12,
   "id": "6faa456c",
   "metadata": {},
   "outputs": [],
   "source": [
    "# merged_df = pd.merge(df, new_df[['product_code', 'image_path', 'volume', 'manufacturer', 'nation', 'ingr_name', 'inspection', 'review_num', 'review_star', 'detail_image_path']], \n",
    "#                      on='product_code', how='inner')\n",
    "# new_df = merged_df"
   ]
  },
  {
   "cell_type": "code",
   "execution_count": 3,
   "id": "8567dbe4",
   "metadata": {},
   "outputs": [],
   "source": [
    "def product_detail_data(url):\n",
    "    driver.get(url)\n",
    "\n",
    "    first_link = driver.find_element(By.CSS_SELECTOR, \"#buyInfo > a\")\n",
    "    first_link.click()   #클릭\n",
    "    time.sleep(random.uniform(0.3, 0.5))\n",
    "\n",
    "    volume = XPATH('//*[@id=\"artcInfo\"]/dl[2]/dd')   #용량\n",
    "    manufacturer = XPATH('//*[@id=\"artcInfo\"]/dl[6]/dd')   #제조사\n",
    "    nation = XPATH('//*[@id=\"artcInfo\"]/dl[7]/dd')   #제조국가\n",
    "    ingr = XPATH('//*[@id=\"artcInfo\"]/dl[8]/dd')   #성분\n",
    "    inspection = XPATH('//*[@id=\"artcInfo\"]/dl[9]/dd')   #심사여부\n",
    "\n",
    "    second_link = driver.find_element(By.CSS_SELECTOR, \"#reviewInfo > a\")\n",
    "    second_link.click()\n",
    "    time.sleep(random.uniform(0.3, 0.5))\n",
    "\n",
    "    #리뷰 개수/점수\n",
    "    review_num = XPATH('//*[@id=\"gdasContentsArea\"]/div/div/div/div[2]/p[1]')\n",
    "    review_star = XPATH('//*[@id=\"gdasContentsArea\"]/div/div/div/div[2]/p[2]/strong')\n",
    "    \n",
    "    return volume, manufacturer, nation, ingr, inspection, review_num, review_star"
   ]
  },
  {
   "cell_type": "code",
   "execution_count": 4,
   "id": "732ed5ea",
   "metadata": {},
   "outputs": [],
   "source": [
    "def CSS(selector):\n",
    "    try:\n",
    "        return driver.find_element(By.CSS, selector).text\n",
    "    except: return None \n",
    "    \n",
    "def XPATH(path):\n",
    "    try:\n",
    "        return driver.find_element(By.XPATH, path).text\n",
    "    except: return None "
   ]
  },
  {
   "cell_type": "code",
   "execution_count": 1,
   "id": "c4b01a4b",
   "metadata": {
    "scrolled": true
   },
   "outputs": [],
   "source": [
    "#위에 함수들로 크롤링 돌리는 코드!\n",
    "from selenium.common.exceptions import TimeoutException\n",
    "driver = webdriver.Chrome()\n",
    "\n",
    "idx = new_df[new_df.ingr_name.isna()].index\n",
    "\n",
    "#칼럼별로 None값 확인해서 빈 행 채우기\n",
    "for i in idx:   #범위(행) 설정: 행 인덱스로 넣음\n",
    "    try:\n",
    "        data = product_detail_data(new_df.LINK[i])\n",
    "        \n",
    "        new_df['volume'].iloc[i] = data[0]\n",
    "        new_df['manufacturer'].iloc[i] = data[1]\n",
    "        new_df['nation'].iloc[i] = data[2]\n",
    "        new_df['ingr_name'].iloc[i] = data[3]\n",
    "        new_df['inspection'].iloc[i] = data[4]\n",
    "        \n",
    "        if pd.isnull(new_df.review_num.iloc[i]) or new_df.review_num.iloc[i] == '':\n",
    "            new_df['review_num'].iloc[i] = data[5]\n",
    "            new_df['review_star'].iloc[i] = data[6]\n",
    "    except (Exception,TimeoutException) as e:\n",
    "        print(e)\n",
    "driver.quit()"
   ]
  },
  {
   "cell_type": "code",
   "execution_count": 4,
   "id": "8e521f97",
   "metadata": {},
   "outputs": [],
   "source": [
    "# new_df[1000:][new_df[:].ingr_name.isna()]   #빈 값 확인"
   ]
  },
  {
   "cell_type": "code",
   "execution_count": 47,
   "id": "5c2da24a",
   "metadata": {},
   "outputs": [],
   "source": [
    "#제품 사진 로컬 다운로드 -> 다운ok\n",
    "base_dir = r'D:\\ODOC\\jupyter_notebook\\제품데이터_FULL\\img\\plus'\n",
    "for index, row in new_df.iterrows():\n",
    "    try:\n",
    "        image_name = f\"{row['product_code']}.png\"\n",
    "        image_path = os.path.join(base_dir, image_name)\n",
    "        image_url = row['images']\n",
    "\n",
    "        response = requests.get(image_url)\n",
    "        with open(image_path, 'wb') as f:\n",
    "            f.write(response.content)\n",
    "\n",
    "        new_df.at[index, 'image_path'] = 'img/'+image_name\n",
    "    except Exception as e:\n",
    "        print(f\"Error downloading image for {image_name}: {e}\")"
   ]
  },
  {
   "cell_type": "code",
   "execution_count": 53,
   "id": "22e9c89c",
   "metadata": {},
   "outputs": [],
   "source": [
    "#추가 데이터 _plus_sub에 저장\n",
    "new_df.to_excel(r'D:\\ODOC\\jupyter_notebook\\제품데이터_FULL\\화장품 통합 데이터_유니크_V3_plus_sub.xlsx',\n",
    "                index=False)"
   ]
  },
  {
   "cell_type": "code",
   "execution_count": 88,
   "id": "48b13804",
   "metadata": {},
   "outputs": [],
   "source": [
    "import ast\n",
    "#엑셀 저장하면서 문자열로 바뀐 리스트 원상복구\n",
    "idx = new_df['detail_images'].isna()\n",
    "new_df['detail_images'][~idx] = new_df['detail_images'][~idx].apply(lambda x: ast.literal_eval(x))"
   ]
  },
  {
   "cell_type": "code",
   "execution_count": 5,
   "id": "3b310ebd",
   "metadata": {
    "scrolled": true
   },
   "outputs": [],
   "source": [
    "from PIL import Image\n",
    "from io import BytesIO\n",
    "\n",
    "#제품 상세페이지 사진 다운로드 -> 상세페이지 중 누락값이 많아서 아직 다운x\n",
    "base_dir = r'D:\\ODOC\\jupyter_notebook\\제품데이터_FULL\\detail_img'\n",
    "\n",
    "#none값 제외\n",
    "idx = ~(new_df.detail_images.isna())\n",
    "\n",
    "for index, row in new_df[idx].iterrows():\n",
    "    paths=[]\n",
    "    for i, image_url in enumerate(row['detail_images']):\n",
    "        try:\n",
    "            if image_url.endswith('.jpg'):\n",
    "                image_name = f\"{row['product_code']}_d{i}.jpg\"\n",
    "            elif image_url.endswith('.gif'):\n",
    "                image_name = f\"{row['product_code']}_d{i}.gif\"\n",
    "            else:\n",
    "                image_name = f\"{row['product_code']}_d{i}.png\"\n",
    "            \n",
    "            image_path = os.path.join(base_dir, image_name)\n",
    "            #디렉토리에 이미 파일 있으면 스킵\n",
    "            if os.path.exists(image_path): continue\n",
    "                \n",
    "            response = requests.get(image_url)\n",
    "            if response.status_code != 200: print('FAIL: ',image_url)   #응답 성공/실패\n",
    "\n",
    "            #gif인 경우 첫 장면 캡처해서 저장\n",
    "            if image_url.endswith('.gif'):\n",
    "                with Image.open(BytesIO(response.content)) as img:\n",
    "                    img.seek(0)  #첫 프레임\n",
    "                    img.convert('RGBA').save(image_path, 'PNG')\n",
    "            else:\n",
    "                with open(image_path, 'wb') as f:\n",
    "                    f.write(response.content)\n",
    "\n",
    "            paths.append('detail_img/'+image_name)\n",
    "        except Exception as e:\n",
    "            print(f\"Error downloading image for {image_name}: {e}\")\n",
    "            print(image_url,'\\n')\n",
    "    new_df.at[index, 'detail_image_path'] = paths"
   ]
  },
  {
   "cell_type": "code",
   "execution_count": 6,
   "id": "c82287ab",
   "metadata": {
    "scrolled": false
   },
   "outputs": [],
   "source": [
    "new_df[['detail_images','detail_image_path']][:1000]"
   ]
  },
  {
   "cell_type": "code",
   "execution_count": null,
   "id": "b80752c2",
   "metadata": {},
   "outputs": [],
   "source": []
  },
  {
   "cell_type": "code",
   "execution_count": null,
   "id": "515a5e0b",
   "metadata": {},
   "outputs": [],
   "source": []
  }
 ],
 "metadata": {
  "kernelspec": {
   "display_name": "Python 3 (ipykernel)",
   "language": "python",
   "name": "python3"
  },
  "language_info": {
   "codemirror_mode": {
    "name": "ipython",
    "version": 3
   },
   "file_extension": ".py",
   "mimetype": "text/x-python",
   "name": "python",
   "nbconvert_exporter": "python",
   "pygments_lexer": "ipython3",
   "version": "3.11.4"
  }
 },
 "nbformat": 4,
 "nbformat_minor": 5
}
