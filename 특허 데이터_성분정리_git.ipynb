{
 "cells": [
  {
   "cell_type": "code",
   "execution_count": 2,
   "id": "fa5f1cb5",
   "metadata": {},
   "outputs": [],
   "source": [
    "pdf.to_excel(r'D:\\ODOC\\jupyter_notebook\\특허_크롤링\\PATENT_DATA.xlsx', index=False)"
   ]
  },
  {
   "cell_type": "code",
   "execution_count": 3,
   "id": "709b6084",
   "metadata": {},
   "outputs": [
    {
     "data": {
      "text/html": [
       "<div>\n",
       "<style scoped>\n",
       "    .dataframe tbody tr th:only-of-type {\n",
       "        vertical-align: middle;\n",
       "    }\n",
       "\n",
       "    .dataframe tbody tr th {\n",
       "        vertical-align: top;\n",
       "    }\n",
       "\n",
       "    .dataframe thead th {\n",
       "        text-align: right;\n",
       "    }\n",
       "</style>\n",
       "<table border=\"1\" class=\"dataframe\">\n",
       "  <thead>\n",
       "    <tr style=\"text-align: right;\">\n",
       "      <th></th>\n",
       "      <th>APPLICATION_NUMBER</th>\n",
       "      <th>REGISTER_NUMBER</th>\n",
       "      <th>INGREDIENT_KOR</th>\n",
       "      <th>INGREDIENT_ENG</th>\n",
       "      <th>APPLICANT</th>\n",
       "      <th>PATENT_TEXT</th>\n",
       "      <th>PATENT_PURPOSE</th>\n",
       "      <th>DESCRIPTION</th>\n",
       "      <th>CATEGORY</th>\n",
       "      <th>cat_1</th>\n",
       "      <th>cat_2</th>\n",
       "      <th>cat_3</th>\n",
       "      <th>cat_4</th>\n",
       "      <th>cat_5</th>\n",
       "      <th>cat_6</th>\n",
       "      <th>cat_7</th>\n",
       "      <th>cat_8</th>\n",
       "      <th>cat_9</th>\n",
       "      <th>cat_10</th>\n",
       "      <th>cat_11</th>\n",
       "    </tr>\n",
       "  </thead>\n",
       "  <tbody>\n",
       "    <tr>\n",
       "      <th>0</th>\n",
       "      <td>10-2023-0188718</td>\n",
       "      <td>NaN</td>\n",
       "      <td>저온성 및 중온성 효소에 의한 식물 추출물의 제조 방법 및 그에 의한 항산화 및 항...</td>\n",
       "      <td>A Method for Producing a Vegetable Extract wit...</td>\n",
       "      <td>(주) 비에스티</td>\n",
       "      <td>저온성 및 중온성 효소에 의한 식물 추출물의 제조 방법 및 항산화 및 항갈변 특성의...</td>\n",
       "      <td>항산화, 항갈변</td>\n",
       "      <td>본 발명은 저온성 및 중온성 효소에 의한 식물 추출물의 제조 방법 및 그에 의한 항...</td>\n",
       "      <td>1,9</td>\n",
       "      <td>1</td>\n",
       "      <td>0</td>\n",
       "      <td>0</td>\n",
       "      <td>0</td>\n",
       "      <td>0</td>\n",
       "      <td>0</td>\n",
       "      <td>0</td>\n",
       "      <td>0</td>\n",
       "      <td>1</td>\n",
       "      <td>0</td>\n",
       "      <td>0</td>\n",
       "    </tr>\n",
       "    <tr>\n",
       "      <th>1</th>\n",
       "      <td>10-2023-0180301</td>\n",
       "      <td>NaN</td>\n",
       "      <td>용암해수 숙성 오미자 열매 추출물 등을 이용한 피부 주름 개선용 조성물 및 염증 반...</td>\n",
       "      <td>Composition for Improving Skin Wrinkles or Ant...</td>\n",
       "      <td>주식회사 두래</td>\n",
       "      <td>피부 주름 개선용 조성물 및 염증 반응 억제용 조성물</td>\n",
       "      <td>콜라게나아제 생성 억제, 콜라겐 생성 촉진, 염증 반응 억제</td>\n",
       "      <td>본 발명은, 사람 각질형성세포인 HaCaT에서 미세먼지나 UV(자외선) 조사에 의해...</td>\n",
       "      <td>9,5</td>\n",
       "      <td>0</td>\n",
       "      <td>0</td>\n",
       "      <td>0</td>\n",
       "      <td>0</td>\n",
       "      <td>1</td>\n",
       "      <td>0</td>\n",
       "      <td>0</td>\n",
       "      <td>0</td>\n",
       "      <td>1</td>\n",
       "      <td>0</td>\n",
       "      <td>0</td>\n",
       "    </tr>\n",
       "    <tr>\n",
       "      <th>2</th>\n",
       "      <td>10-2023-0180860</td>\n",
       "      <td>NaN</td>\n",
       "      <td>앵두 추출물 및 수용성 콜라겐을 포함하는 화장료 조성물</td>\n",
       "      <td>Cosmetic composition comprising nanking cherry...</td>\n",
       "      <td>코스맥스 주식회사</td>\n",
       "      <td>살구앵두 추출물 및 콜라겐을 포함하는 화장료 조성물</td>\n",
       "      <td>피부 관련 상태 예방, 개선 또는 치료</td>\n",
       "      <td>화장료 조성물에 관한 것으로, 상기 조성물은 살구앵두 추출물 및 콜라겐을 포함하고 ...</td>\n",
       "      <td>5,9</td>\n",
       "      <td>0</td>\n",
       "      <td>0</td>\n",
       "      <td>0</td>\n",
       "      <td>0</td>\n",
       "      <td>1</td>\n",
       "      <td>0</td>\n",
       "      <td>0</td>\n",
       "      <td>0</td>\n",
       "      <td>1</td>\n",
       "      <td>0</td>\n",
       "      <td>0</td>\n",
       "    </tr>\n",
       "  </tbody>\n",
       "</table>\n",
       "</div>"
      ],
      "text/plain": [
       "  APPLICATION_NUMBER REGISTER_NUMBER  \\\n",
       "0    10-2023-0188718             NaN   \n",
       "1    10-2023-0180301             NaN   \n",
       "2    10-2023-0180860             NaN   \n",
       "\n",
       "                                      INGREDIENT_KOR  \\\n",
       "0  저온성 및 중온성 효소에 의한 식물 추출물의 제조 방법 및 그에 의한 항산화 및 항...   \n",
       "1  용암해수 숙성 오미자 열매 추출물 등을 이용한 피부 주름 개선용 조성물 및 염증 반...   \n",
       "2                     앵두 추출물 및 수용성 콜라겐을 포함하는 화장료 조성물   \n",
       "\n",
       "                                      INGREDIENT_ENG  APPLICANT  \\\n",
       "0  A Method for Producing a Vegetable Extract wit...   (주) 비에스티   \n",
       "1  Composition for Improving Skin Wrinkles or Ant...    주식회사 두래   \n",
       "2  Cosmetic composition comprising nanking cherry...  코스맥스 주식회사   \n",
       "\n",
       "                                         PATENT_TEXT  \\\n",
       "0  저온성 및 중온성 효소에 의한 식물 추출물의 제조 방법 및 항산화 및 항갈변 특성의...   \n",
       "1                      피부 주름 개선용 조성물 및 염증 반응 억제용 조성물   \n",
       "2                       살구앵두 추출물 및 콜라겐을 포함하는 화장료 조성물   \n",
       "\n",
       "                      PATENT_PURPOSE  \\\n",
       "0                           항산화, 항갈변   \n",
       "1  콜라게나아제 생성 억제, 콜라겐 생성 촉진, 염증 반응 억제   \n",
       "2              피부 관련 상태 예방, 개선 또는 치료   \n",
       "\n",
       "                                         DESCRIPTION CATEGORY  cat_1  cat_2  \\\n",
       "0  본 발명은 저온성 및 중온성 효소에 의한 식물 추출물의 제조 방법 및 그에 의한 항...      1,9      1      0   \n",
       "1  본 발명은, 사람 각질형성세포인 HaCaT에서 미세먼지나 UV(자외선) 조사에 의해...      9,5      0      0   \n",
       "2  화장료 조성물에 관한 것으로, 상기 조성물은 살구앵두 추출물 및 콜라겐을 포함하고 ...      5,9      0      0   \n",
       "\n",
       "   cat_3  cat_4  cat_5  cat_6  cat_7  cat_8  cat_9  cat_10  cat_11  \n",
       "0      0      0      0      0      0      0      1       0       0  \n",
       "1      0      0      1      0      0      0      1       0       0  \n",
       "2      0      0      1      0      0      0      1       0       0  "
      ]
     },
     "execution_count": 3,
     "metadata": {},
     "output_type": "execute_result"
    }
   ],
   "source": [
    "import pandas as pd\n",
    "import numpy as np\n",
    "import re\n",
    "pdf = pd.read_excel(r'D:\\ODOC\\jupyter_notebook\\특허_크롤링\\PATENT_DATA.xlsx')\n",
    "pdf.head(3)"
   ]
  },
  {
   "cell_type": "code",
   "execution_count": 41,
   "id": "e9a92c62",
   "metadata": {
    "scrolled": true
   },
   "outputs": [],
   "source": [
    "# 100개 직접 카테고리 지정해줌\n",
    "\n",
    "for i in range(0,100):\n",
    "    print(pdf['PATENT_PURPOSE'].iloc[i])\n",
    "    print(pdf['요약'].iloc[i], end='\\n\\n')\n",
    "    cat = input('입력: ')\n",
    "    pdf['CATEGORY'].iloc[i] = cat"
   ]
  },
  {
   "cell_type": "code",
   "execution_count": null,
   "id": "4c51a1cf",
   "metadata": {},
   "outputs": [],
   "source": []
  },
  {
   "cell_type": "markdown",
   "id": "6700e4ac",
   "metadata": {},
   "source": [
    "#### <성분분류>\n",
    "-일부 카테고리 변경!!!!\n",
    "1. 기미제거, 미백 (멜라닌, 색소침착)\n",
    "2. 자외선 차단\n",
    "3. 탈모방지\n",
    "4. 헤어케어\n",
    "5. 여드름 방지 및 제거, 항균, 염증억제, 알레르기\n",
    "6. 청결 (클렌징)\n",
    "7. 진정, 보습\n",
    "8. 리페어(재생)\n",
    "9. 주름개선, 피부탄력, 노화 방지 (콜라겐, 엘라스틴)\n",
    "10. 각질제거(필링, 턴오버, 재생주기, 화장 들뜸)\n",
    "11. 모공관리(블랙헤드, 화이트헤드, 면포, 모낭충)\n",
    "12. 지성피부 (피지관리, 피지제거, 기름기)\n",
    "13. 기타"
   ]
  },
  {
   "cell_type": "markdown",
   "id": "a4be64b0",
   "metadata": {},
   "source": [
    "#### (카테고리 변경 전 코드)"
   ]
  },
  {
   "cell_type": "code",
   "execution_count": 2,
   "id": "ab8a6f81",
   "metadata": {},
   "outputs": [],
   "source": [
    "#카테고리별 핵심 키워드\n",
    "keyword1 = ['천연','기미', '미백', '피부 미백', '멜라닌', '색소침착','효소', '황갈변', '피부 톤', '잡티', '주근깨','항갈변','투명','피부 색']\n",
    "keyword2 = ['선스크린', '자외선','선크림','썬크림', 'UV','uv','차단용']\n",
    "keyword3 = ['발모', '탈모', '모발','모발 성장','발모 촉진','탈모 방지','천연','두피','탈모 예방','탈모 치료제']\n",
    "keyword4 = ['헤어 케어','모발 탄력','두피 착색','헤어스타일','샴푸','트리트먼트', '컨디셔닝','두피 개선','머릿결','두피 케어','염색','스타일링', '두피 각질','비듬','모발 영양']\n",
    "keyword5 = ['여드름 방지', '항균', '항염', '염증 억제', '알레르기' ,'가려움', '항 가려움', '가려움증','염증 반응', '균제거', '염증', '세균성', '아토피','억제','완화','바이러스','항진균', '피부 염증', '염증 작용', '피부 질환','세균', '진균성','트러블']\n",
    "keyword6 = ['청결','클렌징', '세정', '세안','세정성','세안성']\n",
    "keyword7 = ['진정', '보습', '쿨링','보습용','수분 공급','촉촉','건조','피부 보습', '피부장벽 강화']\n",
    "keyword8 = ['리페어','피부 상처', '재생', '치유', '치료', '피부장벽', '피부 상태', '손상']\n",
    "keyword9 = ['주름 개선', '피부 탄력', '노화 방지', '콜라겐','항산화','리프팅', '천연','주름','피부 치밀도', '항노화']\n",
    "keyword10 = ['각질 제거', '모공 수축', '모공 축소', '모공 개선', '모공 관리','모공 케어', '모공 수렴','피지', '노폐물','모공','여드름','부산물','오염 물질','배출']\n",
    "\n",
    "keyword11 = ['발향','향균','심신','안정','제형']"
   ]
  },
  {
   "cell_type": "code",
   "execution_count": 9,
   "id": "22d8b029",
   "metadata": {},
   "outputs": [],
   "source": [
    "#문서 전처리 -> 단어 토큰화, 1글자/조사/특수문자/영어 제거\n",
    "from konlpy.tag import Okt\n",
    "def extract_particles(text):\n",
    "    okt = Okt()\n",
    "    words = text.split()\n",
    "    cleaned_words = []\n",
    "    for word in words:\n",
    "        morphemes = okt.pos(word)\n",
    "        cleaned_word = [morpheme[0] for morpheme in morphemes \n",
    "                        if morpheme[1]!='Josa' \n",
    "                        and len(morpheme[0])>1\n",
    "                        and re.match('[가-힣]+', morpheme[0])]\n",
    "        cleaned_words.append(''.join(cleaned_word))\n",
    "    return ' '.join(cleaned_words)"
   ]
  },
  {
   "cell_type": "code",
   "execution_count": 10,
   "id": "f1dd7c8f",
   "metadata": {},
   "outputs": [],
   "source": [
    "# 각 문서별로 적용 (제목+요약 텍스트 -> 전처리)\n",
    "start = 0\n",
    "end = len(pdf)\n",
    "\n",
    "documents  = [a+'\\n'+b for a, b in \n",
    "            zip(pdf.INGREDIENT_KOR.iloc[start:end], \n",
    "                pdf.DESCRIPTION.iloc[start:end])]\n",
    "documents = [extract_particles(text) for text in documents]\n",
    "# documents"
   ]
  },
  {
   "cell_type": "code",
   "execution_count": 12,
   "id": "385faafc",
   "metadata": {},
   "outputs": [
    {
     "name": "stdout",
     "output_type": "stream",
     "text": [
      "변형된 손발톱 케어용 화장료 조성물 및 이의 제조방법\n",
      "본 발명은 변형된 손발톱 케어용 화장료 조성물 및 이의 제조방법에 관한 것이다. 더욱 상세하게, 본 발명은 천연 소재를 이용하여, 변형된 손발톱에 의해 변형된 피부 및 변형되어 약해진 사이드윌의 재건에 효과적인 변형된 손발톱 케어용 화장료 조성물 및 이의 제조방법에 관한 것이다.\n"
     ]
    },
    {
     "data": {
      "text/plain": [
       "'변형 손발톱 케어 화장 조성  이의 제조방법  발명 변형 손발톱 케어 화장 조성  이의 방법   더욱 상세하게  발명 천연 소재 이용하여 변형 손발톱 의해 변형 피부  변형되어 약해진 사이드 재건 효과 변형 손발톱 케어 화장 조성  이의 방법  '"
      ]
     },
     "execution_count": 12,
     "metadata": {},
     "output_type": "execute_result"
    }
   ],
   "source": [
    "idx = 190\n",
    "print(pdf.INGREDIENT_KOR.iloc[start+idx])\n",
    "print(pdf.DESCRIPTION.iloc[start+idx])\n",
    "documents[idx]"
   ]
  },
  {
   "cell_type": "code",
   "execution_count": 43,
   "id": "1aba1c65",
   "metadata": {},
   "outputs": [],
   "source": [
    "documents_save = documents\n",
    "documents = [a+'\\n'+b for a, b in \n",
    "            zip(pdf.PATENT_TEXT.iloc[start:end], \n",
    "                pdf.PATENT_PURPOSE.iloc[start:end])]"
   ]
  },
  {
   "cell_type": "code",
   "execution_count": 44,
   "id": "b6b0f9f1",
   "metadata": {},
   "outputs": [],
   "source": [
    "from sklearn.feature_extraction.text import TfidfVectorizer\n",
    "from sklearn.metrics.pairwise import cosine_similarity\n",
    "\n",
    "keywords = [keyword1, keyword2, keyword3, keyword4, keyword5,\n",
    "            keyword6, keyword7, keyword8, keyword9, keyword10]\n",
    "\n",
    "vectorizer = TfidfVectorizer()\n",
    "tfidf_matrix = vectorizer.fit_transform(documents)\n",
    "\n",
    "similarity = []\n",
    "for idx, keyword in enumerate(keywords):\n",
    "    keyword_str = ' '.join(keyword)\n",
    "    keyword_vector = vectorizer.transform([keyword_str])\n",
    "\n",
    "    #keyword 카테고리에 대한, 문서들의 유사도\n",
    "    sim = cosine_similarity(tfidf_matrix, keyword_vector)\n",
    "    similarity.append(sim)\n",
    "\n",
    "#각 문서에 해당하는 cat_칼럼 1로 수정\n",
    "pdf.loc[start:end, 'cat_1':'cat_10'] = 0\n",
    "for num, sim_values in enumerate(similarity):\n",
    "    similar_indices = [i+start for i, sim in \n",
    "                    enumerate(sim_values) if sim >= 0.05]\n",
    "    for low in similar_indices:\n",
    "        pdf.loc[low, 'cat_'+str(num+1)] = 1   #num은 0부터 시작함"
   ]
  },
  {
   "cell_type": "code",
   "execution_count": 15,
   "id": "bec88130",
   "metadata": {
    "scrolled": true
   },
   "outputs": [],
   "source": [
    "# 카테고리별 해당하는 문서 인덱스 확인\n",
    "similar_documents = []\n",
    "for num, sim_values in enumerate(similarity):\n",
    "    similar_indices = [i+start for i, sim in \n",
    "                    enumerate(sim_values) if sim >= 0.05]\n",
    "    similar_documents.append(similar_indices)\n",
    "\n",
    "for i in similar_documents:\n",
    "    print(i, '\\n')"
   ]
  },
  {
   "cell_type": "code",
   "execution_count": null,
   "id": "4752ac23",
   "metadata": {},
   "outputs": [],
   "source": []
  },
  {
   "cell_type": "code",
   "execution_count": 212,
   "id": "cfb90027",
   "metadata": {
    "scrolled": true
   },
   "outputs": [],
   "source": [
    "# for doc_index in range(len(similarity[0])):\n",
    "#     print(f\"문서 {start+doc_index}에 대한 카테고리별 유사도:\")\n",
    "    \n",
    "#     for idx, keyword in enumerate(keywords):\n",
    "#         sim_value = similarity[idx][doc_index]\n",
    "#         print(f\"  카테고리 {idx + 1}: {sim_value}\")\n",
    "    \n",
    "#     print(\"\\n\")"
   ]
  },
  {
   "cell_type": "code",
   "execution_count": 45,
   "id": "87faf2bd",
   "metadata": {},
   "outputs": [],
   "source": [
    "document1 = list(pdf.DESCRIPTION[pdf.cat_1==1])\n",
    "document2 = list(pdf.DESCRIPTION[pdf.cat_2==1])\n",
    "document3 = list(pdf.DESCRIPTION[pdf.cat_3==1])\n",
    "document4 = list(pdf.DESCRIPTION[pdf.cat_4==1])\n",
    "document5 = list(pdf.DESCRIPTION[pdf.cat_5==1])\n",
    "document6 = list(pdf.DESCRIPTION[pdf.cat_6==1])\n",
    "document7 = list(pdf.DESCRIPTION[pdf.cat_7==1])\n",
    "document8 = list(pdf.DESCRIPTION[pdf.cat_8==1])\n",
    "document9 = list(pdf.DESCRIPTION[pdf.cat_9==1])\n",
    "document10 = list(pdf.DESCRIPTION[pdf.cat_10==1])\n",
    "docs = [document1,document2,document3,document4,document5,document6,\n",
    "       document7,document8,document9,document10]\n",
    "\n",
    "all_documents = list(pdf.DESCRIPTION.iloc[:end])"
   ]
  },
  {
   "cell_type": "code",
   "execution_count": 64,
   "id": "7e53aae7",
   "metadata": {},
   "outputs": [
    {
     "name": "stdout",
     "output_type": "stream",
     "text": [
      "적어도 2종의 (폴리)글리세롤의 지방산 에스테르를 포함하는 조성물, 및 이의 화장품에서의 용도\n",
      "본 발명은 나노에멀젼 또는 마이크로에멀젼 형태의 조성물로서,  - 12개 내지 20개의 탄소 원자를 함유하는 알킬 또는 알케닐 사슬을 포함하는 적어도 하나의 산 및 3개 내지 6개의 글리세롤 단위로부터 형성되는 폴리글리세롤의 지방산 에스테르로부터 선택되는 제1 폴리글리세롤의 지방산 에스테르;  - 6개 내지 18개의 탄소 원자를 함유하는 알킬 또는 알케닐 사슬을 포함하는 적어도 하나의 산 및 1개 내지 3개의 글리세롤 단위로부터 형성되는 (폴리)글리세롤의 지방산 에스테르로부터 선택되는 제2 (폴리)글리세롤의 지방산 에스테르 (c);  - 적어도 하나의 오르가노폴리실록산 탄성중합체;  - 서로 상이한 적어도 2종의 아크릴산계 중합체;  - 적어도 하나의 2-아크릴아미도메틸프로판설폰산(AMPS) 단위를 포함하는 적어도 하나의 양친매성 중합체;  - 적어도 하나의 오일;  - 물을 포함하는 조성물에 관한 것이다.  본 발명은 또한 이러한 조성물의 도포에 의한, 피부와 같은 케라틴 물질에 대한 미용 처치 방법에 관한 것이다. \n",
      "\n",
      "탄소 원자를 포함하는 지방산 에스테르를 사용한 에멀젼 조성물\n",
      "피부 미용 처치\n",
      "1 : [0.0278461] \n",
      "2 : [0.] \n",
      "3 : [0.] \n",
      "4 : [0.] \n",
      "5 : [0.01228633] \n",
      "6 : [0.] \n",
      "7 : [0.01192765] \n",
      "8 : [0.0311274] \n",
      "9 : [0.02403429] \n",
      "10 : [0.] \n"
     ]
    }
   ],
   "source": [
    "idx = 5657\n",
    "print(pdf.INGREDIENT_KOR.iloc[start+idx])\n",
    "print(pdf.DESCRIPTION.iloc[start+idx],'\\n')\n",
    "print(documents[idx])\n",
    "\n",
    "for i in range(10):\n",
    "    print(i+1,':',similarity[i][idx], end=' ')\n",
    "    if similarity[i][idx]>0.05:\n",
    "        print('★')\n",
    "    else: print()"
   ]
  },
  {
   "cell_type": "code",
   "execution_count": 7,
   "id": "0409a054",
   "metadata": {},
   "outputs": [],
   "source": [
    "for idx in pdf[pdf.cat_1==1].index:\n",
    "    print(pdf.loc[idx, ['cat_1', 'cat_2', 'cat_3', 'cat_4', 'cat_5', 'cat_6', 'cat_7', 'cat_8', 'cat_9', 'cat_10']])\n",
    "    print(pdf.DESCRIPTION[idx], end='\\n\\n')\n",
    "\n",
    "# pdf[pdf.cat_1==1].DESCRIPTION"
   ]
  },
  {
   "cell_type": "code",
   "execution_count": null,
   "id": "35f47599",
   "metadata": {},
   "outputs": [],
   "source": []
  },
  {
   "cell_type": "code",
   "execution_count": 166,
   "id": "9a2ff406",
   "metadata": {},
   "outputs": [],
   "source": [
    "document1 = list(pdf.DESCRIPTION[(pdf.cat_1==1)&(~pdf.CATEGORY.isna())])\n",
    "document2 = list(pdf.DESCRIPTION[(pdf.cat_2==1)&(~pdf.CATEGORY.isna())])\n",
    "document3 = list(pdf.DESCRIPTION[(pdf.cat_3==1)&(~pdf.CATEGORY.isna())])\n",
    "document4 = list(pdf.DESCRIPTION[(pdf.cat_4==1)&(~pdf.CATEGORY.isna())])\n",
    "document5 = list(pdf.DESCRIPTION[(pdf.cat_5==1)&(~pdf.CATEGORY.isna())])\n",
    "document6 = list(pdf.DESCRIPTION[(pdf.cat_6==1)&(~pdf.CATEGORY.isna())])\n",
    "document7 = list(pdf.DESCRIPTION[(pdf.cat_7==1)&(~pdf.CATEGORY.isna())])\n",
    "document8 = list(pdf.DESCRIPTION[(pdf.cat_8==1)&(~pdf.CATEGORY.isna())])\n",
    "document9 = list(pdf.DESCRIPTION[(pdf.cat_9==1)&(~pdf.CATEGORY.isna())])\n",
    "document10 = list(pdf.DESCRIPTION[(pdf.cat_10==1)&(~pdf.CATEGORY.isna())])\n",
    "\n",
    "docs = [document1,document2,document3,document4,document5,document6,\n",
    "       document7,document8,document9,document10]"
   ]
  },
  {
   "cell_type": "code",
   "execution_count": 163,
   "id": "596146b4",
   "metadata": {},
   "outputs": [],
   "source": [
    "#조사제거/ 1글자 단어 제거/ 토큰화+명사만 추출/ 불용어 제거\n",
    "from konlpy.tag import Okt\n",
    "\n",
    "def extract_nouns(text):\n",
    "    okt = Okt()\n",
    "    nouns = okt.nouns(text)\n",
    "    return nouns\n",
    "\n",
    "def preprocess_text(text):\n",
    "    nouns = extract_nouns(text)\n",
    "    nouns = [w for w in nouns if (len(w)>=2) & (w not in not_words)]\n",
    "    result = ' '.join(nouns)\n",
    "    return result\n",
    "\n",
    "not_words = ['발명', '추출', '효과', '기능', '성분', '효능', '방법', '함유', '중량', '내지', '제공',\n",
    "    '안료', '가지', '부가', '상기', '코어', '여성', '유효', '식품', '형성', '활용', '미세',\n",
    "    '배양', '신규', '유래', '예방', '사용', '환경', '배양', '이의', '분비', '사과', '함량',\n",
    "    '화장품', '의약품', '하나', '이상', '능력', '물질', '수돗물', '분말', '상태','화장']\n",
    "\n",
    "word_docs = []\n",
    "for doc in docs:\n",
    "    preprocessed_documents = []\n",
    "    for document in doc:\n",
    "        preprocessed_document = preprocess_text(document)\n",
    "        preprocessed_documents.append(preprocessed_document)\n",
    "    word_docs.append(preprocessed_documents)"
   ]
  },
  {
   "cell_type": "code",
   "execution_count": 165,
   "id": "99a4610a",
   "metadata": {},
   "outputs": [
    {
     "name": "stdout",
     "output_type": "stream",
     "text": [
      "Category1. ['피부' '미백' '조성' '개선' '주름' '이용' '멜라닌' '항산화' '세포' '억제']\n",
      "Category2. ['차단' '자외선' '조성' '피부' '흡수' '개선' '유기' '반응' '이용' '방지']\n",
      "Category3. ['탈모' '모발' '촉진' '두피' '방지' '조성' '개선' '발모' '이용' '치료']\n",
      "Category4. ['모발' '두피' '조성' '헤어' '개선' '탈모' '피부' '촉진' '베이스' '케어']\n",
      "Category5. ['피부' '조성' '염증' '개선' '이용' '항균' '발효' '치료' '억제' '용도']\n",
      "Category6. ['클렌징' '피부' '조성' '정제' '세안' '제거' '자극' '계면활성제' '비누' '오일']\n",
      "Category7. ['피부' '조성' '보습' '개선' '발효' '이용' '장벽' '진정' '수분' '강화']\n",
      "Category8. ['피부' '개선' '조성' '재생' '염증' '장벽' '세포' '발효' '용도' '주름']\n",
      "Category9. ['피부' '개선' '조성' '주름' '이용' '항산화' '발효' '미백' '탄력' '염증']\n",
      "Category10. ['피부' '피지' '모공' '조성' '개선' '여드름' '제거' '각질' '억제' '이용']\n"
     ]
    }
   ],
   "source": [
    "# 각 문서집단별 대표단어 20개\n",
    "from sklearn.feature_extraction.text import TfidfVectorizer\n",
    "import numpy as np\n",
    "\n",
    "all_documents = list(pdf.DESCRIPTION[~pdf.CATEGORY.isna()])\n",
    "\n",
    "tfidf_vectorizer = TfidfVectorizer()\n",
    "tfidf_matrix_all = tfidf_vectorizer.fit_transform(all_documents)\n",
    "\n",
    "top_words = []\n",
    "num=0\n",
    "for d in word_docs:\n",
    "    num+=1\n",
    "    tfidf_matrix = tfidf_vectorizer.transform(d)\n",
    "    feature_names = np.array(tfidf_vectorizer.get_feature_names_out())\n",
    "    word_indices = tfidf_matrix.sum(axis=0).argsort()[0, ::-1][:10]\n",
    "    word = feature_names[word_indices]\n",
    "    print(f'Category{num}.',word[0][:10])"
   ]
  },
  {
   "cell_type": "code",
   "execution_count": null,
   "id": "54fcd664",
   "metadata": {},
   "outputs": [],
   "source": []
  },
  {
   "cell_type": "code",
   "execution_count": null,
   "id": "e68af3a2",
   "metadata": {},
   "outputs": [],
   "source": []
  },
  {
   "cell_type": "code",
   "execution_count": 160,
   "id": "2fbae288",
   "metadata": {},
   "outputs": [],
   "source": [
    "from sklearn.feature_extraction.text import TfidfVectorizer\n",
    "from sklearn.metrics.pairwise import cosine_similarity\n",
    "\n",
    "idx = pdf[pdf.CATEGORY.isna()].index\n",
    "query_document = pdf.DESCRIPTION[idx[1000]]\n",
    "\n",
    "similarities=[]\n",
    "for doc in docs:\n",
    "    #tfidf변환기에 문서집단 학습\n",
    "    vectorizer = TfidfVectorizer()\n",
    "    tfidf_matrix = vectorizer.fit_transform(doc)\n",
    "\n",
    "    #문서집단-특정문서 간 유사도 계산\n",
    "    query_tfidf_vector = vectorizer.transform([query_document])\n",
    "    similarities.append(cosine_similarity(query_tfidf_vector, tfidf_matrix).mean())"
   ]
  },
  {
   "cell_type": "code",
   "execution_count": 161,
   "id": "6de28f2d",
   "metadata": {},
   "outputs": [
    {
     "name": "stdout",
     "output_type": "stream",
     "text": [
      "카테고리1. 0.0419\n",
      "카테고리2. 0.0581\n",
      "카테고리3. 0.0332\n",
      "카테고리4. 0.0398\n",
      "카테고리5. 0.0272\n",
      "카테고리6. 0.0584\n",
      "카테고리7. 0.0259\n",
      "카테고리8. 0.031\n",
      "카테고리9. 0.0278\n",
      "카테고리10. 0.0492\n"
     ]
    },
    {
     "data": {
      "text/plain": [
       "0.0392"
      ]
     },
     "execution_count": 161,
     "metadata": {},
     "output_type": "execute_result"
    }
   ],
   "source": [
    "for i in range(10):\n",
    "    print(f'카테고리{i+1}.', similarities[i].round(4))\n",
    "np.array(similarities).mean().round(4)"
   ]
  },
  {
   "cell_type": "code",
   "execution_count": 162,
   "id": "64747aea",
   "metadata": {},
   "outputs": [
    {
     "data": {
      "text/plain": [
       "'본 발명의 피부 미백용 조성물은 황칠나무 캘러스 추출물을 바실러스 속(Bacillus sp.) JD3-7로 생물전환한 생물전환산물을 유효성분으로 함유한다. 또한, 본 발명의 황칠나무 캘러스 추출물의 생물전환 방법은 황칠나무 캘러스 추출물과 바실러스 속 JD3-7의 균체를 혼합하여 생물전환 반응용 조성물을 생성하는 단계; 및 상기 생물전환 반응용 조성물을 항온처리하는 단계;를 포함한다.'"
      ]
     },
     "execution_count": 162,
     "metadata": {},
     "output_type": "execute_result"
    }
   ],
   "source": [
    "query_document"
   ]
  },
  {
   "cell_type": "code",
   "execution_count": null,
   "id": "efde9acf",
   "metadata": {},
   "outputs": [],
   "source": []
  },
  {
   "cell_type": "code",
   "execution_count": 289,
   "id": "923cd489",
   "metadata": {},
   "outputs": [],
   "source": [
    "pdf.to_excel(r'D:\\ODOC\\jupyter_notebook\\특허_크롤링\\PATENT_DATA.xlsx', index=False)"
   ]
  },
  {
   "cell_type": "code",
   "execution_count": 9,
   "id": "b75a8bed",
   "metadata": {
    "scrolled": true
   },
   "outputs": [],
   "source": [
    "keyword = \"모공\"\n",
    "index = pdf[pdf['DESCRIPTION'].str.contains(keyword)\n",
    "          &(pdf['CATEGORY'].isna())].index\n",
    "idx = index[:10]\n",
    "\n",
    "for i in idx:\n",
    "    print(i,':', pdf.DESCRIPTION[i])\n",
    "    cat = input('카테고리 입력:')\n",
    "    pdf.CATEGORY[i] = str(cat)\n",
    "    print()"
   ]
  },
  {
   "cell_type": "code",
   "execution_count": 47,
   "id": "83825ef5",
   "metadata": {},
   "outputs": [],
   "source": [
    "# # 카테고리별 칼럼 만들기\n",
    "for cat in range(1, 12):\n",
    "    pdf[f'cat_{cat}'] = 0"
   ]
  },
  {
   "cell_type": "code",
   "execution_count": 153,
   "id": "e784f05d",
   "metadata": {},
   "outputs": [],
   "source": [
    "#원-핫 인코딩\n",
    "import re\n",
    "category_onehot = pdf[~pdf.CATEGORY.isna()]\n",
    "\n",
    "for idx, row in category_onehot.iterrows():\n",
    "    row['CATEGORY'] = re.sub(r'\\.', ',', row['CATEGORY'])\n",
    "    category_list=[]\n",
    "    for x in row['CATEGORY'].split(','):\n",
    "        match = re.search(r'\\d+',x)\n",
    "        if match: category_list.append(match.group())\n",
    "    \n",
    "    for cat in category_list:\n",
    "        pdf.at[idx, f'cat_{cat}'] = 1"
   ]
  },
  {
   "cell_type": "code",
   "execution_count": 8,
   "id": "f0989257",
   "metadata": {
    "scrolled": true
   },
   "outputs": [],
   "source": [
    "# pdf.iloc[0:100]\n",
    "idx = pdf[pdf.cat_8==1].index\n",
    "\n",
    "for i in idx:\n",
    "    print(i)\n",
    "    print(pdf['PATENT_PURPOSE'].iloc[i], pdf['CATEGORY'].iloc[i])\n",
    "    print(pdf['요약'].iloc[i], end='\\n\\n')"
   ]
  }
 ],
 "metadata": {
  "kernelspec": {
   "display_name": "Python 3 (ipykernel)",
   "language": "python",
   "name": "python3"
  },
  "language_info": {
   "codemirror_mode": {
    "name": "ipython",
    "version": 3
   },
   "file_extension": ".py",
   "mimetype": "text/x-python",
   "name": "python",
   "nbconvert_exporter": "python",
   "pygments_lexer": "ipython3",
   "version": "3.11.4"
  }
 },
 "nbformat": 4,
 "nbformat_minor": 5
}
